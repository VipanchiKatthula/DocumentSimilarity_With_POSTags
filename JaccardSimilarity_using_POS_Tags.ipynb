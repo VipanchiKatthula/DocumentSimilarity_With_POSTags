{
  "nbformat": 4,
  "nbformat_minor": 0,
  "metadata": {
    "colab": {
      "name": "Untitled1.ipynb",
      "provenance": [],
      "collapsed_sections": [],
      "authorship_tag": "ABX9TyPertIm0oL4kcX3zBe60RNM",
      "include_colab_link": true
    },
    "kernelspec": {
      "name": "python3",
      "display_name": "Python 3"
    }
  },
  "cells": [
    {
      "cell_type": "markdown",
      "metadata": {
        "id": "view-in-github",
        "colab_type": "text"
      },
      "source": [
        "<a href=\"https://colab.research.google.com/github/VipanchiKatthula/DocumentSimilarity_With_POSTags/blob/master/JaccardSimilarity_using_POS_Tags.ipynb\" target=\"_parent\"><img src=\"https://colab.research.google.com/assets/colab-badge.svg\" alt=\"Open In Colab\"/></a>"
      ]
    },
    {
      "cell_type": "code",
      "metadata": {
        "id": "F3fHEFYrfzYt",
        "colab_type": "code",
        "colab": {
          "base_uri": "https://localhost:8080/",
          "height": 153
        },
        "outputId": "a40cc0b2-6c2e-49e9-e1a1-9f48dfc0584f"
      },
      "source": [
        "import nltk\n",
        "nltk.download('punkt')\n",
        "nltk.download('stopwords')\n",
        "nltk.download('averaged_perceptron_tagger')\n",
        "from nltk import word_tokenize\n",
        "from nltk.tag import pos_tag\n",
        "from collections import Counter"
      ],
      "execution_count": 97,
      "outputs": [
        {
          "output_type": "stream",
          "text": [
            "[nltk_data] Downloading package punkt to /root/nltk_data...\n",
            "[nltk_data]   Package punkt is already up-to-date!\n",
            "[nltk_data] Downloading package stopwords to /root/nltk_data...\n",
            "[nltk_data]   Package stopwords is already up-to-date!\n",
            "[nltk_data] Downloading package averaged_perceptron_tagger to\n",
            "[nltk_data]     /root/nltk_data...\n",
            "[nltk_data]   Package averaged_perceptron_tagger is already up-to-\n",
            "[nltk_data]       date!\n"
          ],
          "name": "stdout"
        }
      ]
    },
    {
      "cell_type": "code",
      "metadata": {
        "id": "zsm8vaHUjJMD",
        "colab_type": "code",
        "colab": {
          "base_uri": "https://localhost:8080/",
          "height": 34
        },
        "outputId": "5e23de6a-c90a-480a-c993-9e322e3f8952"
      },
      "source": [
        "!pip install -q xlrd\n",
        "!git clone https://github.com/VipanchiKatthula/DocumentSimilarity_With_POSTags.git"
      ],
      "execution_count": 98,
      "outputs": [
        {
          "output_type": "stream",
          "text": [
            "fatal: destination path 'DocumentSimilarity_With_POSTags' already exists and is not an empty directory.\n"
          ],
          "name": "stdout"
        }
      ]
    },
    {
      "cell_type": "code",
      "metadata": {
        "id": "RvPwr9T7gEAa",
        "colab_type": "code",
        "colab": {
          "base_uri": "https://localhost:8080/",
          "height": 139
        },
        "outputId": "cedb3bb7-57f7-430f-856c-1b027498cbd4"
      },
      "source": [
        "UIC =  open('DocumentSimilarity_With_POSTags/Data/UIC.txt',encoding= \"utf8\", mode = 'r')\n",
        "a = UIC.read()\n",
        "import re\n",
        "b = re.sub(r\"[^a-z\\s]+\",' ',a.lower()) #Removing punctuation\n",
        "print(b[1:500])"
      ],
      "execution_count": 99,
      "outputs": [
        {
          "output_type": "stream",
          "text": [
            "thank you   \n",
            "the contributions we receive from our community of readers  editors and donors will keep us strong in   we ask you  humbly  to help us improve wikipedia by answering a few questions  thanks for your participation this survey powered by a third party service  please see the survey privacy statement \n",
            "university of illinois at chicago\n",
            "from wikipedia  the free encyclopedia\n",
            "jump to navigationjump to search\n",
            " university of illinois  chicago  redirects here  for the private university in c\n"
          ],
          "name": "stdout"
        }
      ]
    },
    {
      "cell_type": "code",
      "metadata": {
        "id": "AE7J5siH14VP",
        "colab_type": "code",
        "colab": {
          "base_uri": "https://localhost:8080/",
          "height": 54
        },
        "outputId": "bef85a76-ecc9-4a53-a169-e6ee1c7c96e9"
      },
      "source": [
        "c = word_tokenize(b)\n",
        "print(c[1:20])"
      ],
      "execution_count": 109,
      "outputs": [
        {
          "output_type": "stream",
          "text": [
            "['democratic', 'debate', 'candidates', 'clash', 'on', 'money', 's', 'role', 'video', 'transcript', 'new', 'hampshire', 'clash', 'clinton', 'vs', 'sanders', 'the', 'times', 'reporter']\n"
          ],
          "name": "stdout"
        }
      ]
    },
    {
      "cell_type": "code",
      "metadata": {
        "id": "IuQnZ5bf1-pE",
        "colab_type": "code",
        "colab": {
          "base_uri": "https://localhost:8080/",
          "height": 54
        },
        "outputId": "d60b4a39-7f07-4a8b-9df1-bbd036856056"
      },
      "source": [
        "wordtags = pos_tag(c)\n",
        "print(wordtags[1:20])"
      ],
      "execution_count": 110,
      "outputs": [
        {
          "output_type": "stream",
          "text": [
            "[('democratic', 'JJ'), ('debate', 'NN'), ('candidates', 'NNS'), ('clash', 'VBP'), ('on', 'IN'), ('money', 'NN'), ('s', 'NN'), ('role', 'NN'), ('video', 'NN'), ('transcript', 'VBD'), ('new', 'JJ'), ('hampshire', 'NN'), ('clash', 'NN'), ('clinton', 'NN'), ('vs', 'NN'), ('sanders', 'VBZ'), ('the', 'DT'), ('times', 'NNS'), ('reporter', 'VBP')]\n"
          ],
          "name": "stdout"
        }
      ]
    },
    {
      "cell_type": "code",
      "metadata": {
        "id": "PZADChdw2Bls",
        "colab_type": "code",
        "colab": {
          "base_uri": "https://localhost:8080/",
          "height": 54
        },
        "outputId": "c7963908-ee40-42bd-e01d-4ad44f7674e2"
      },
      "source": [
        "UICcount= Counter([j for i,j in wordtags])\n",
        "print(UICcount)"
      ],
      "execution_count": 121,
      "outputs": [
        {
          "output_type": "stream",
          "text": [
            "Counter({'NN': 598, 'IN': 316, 'JJ': 287, 'NNS': 235, 'DT': 206, 'VBD': 123, 'PRP': 110, 'VBP': 89, 'RB': 86, 'VB': 83, 'CC': 61, 'VBG': 57, 'VBZ': 54, 'TO': 54, 'VBN': 52, 'PRP$': 47, 'WP': 19, 'MD': 19, 'WRB': 18, 'CD': 12, 'RP': 9, 'JJR': 8, 'WDT': 5, 'RBR': 5, 'EX': 4, 'RBS': 4, 'NNPS': 3, 'FW': 2, 'PDT': 1, 'NNP': 1})\n"
          ],
          "name": "stdout"
        }
      ]
    },
    {
      "cell_type": "code",
      "metadata": {
        "id": "IOcoyTlwgbiD",
        "colab_type": "code",
        "colab": {
          "base_uri": "https://localhost:8080/",
          "height": 54
        },
        "outputId": "0ded00a0-6d50-451e-cc17-9744aecc403c"
      },
      "source": [
        "ESPN =  open('DocumentSimilarity_With_POSTags/Data/ESPN.txt',encoding= \"utf8\", mode = 'r')\n",
        "a = ESPN.read()\n",
        "b = re.sub(r\"[^a-z\\s]+\",' ',a.lower()) #Removing punctuation\n",
        "ESPNCount = Counter([j for i,j in pos_tag(word_tokenize(b))])\n",
        "print(ESPNCount)"
      ],
      "execution_count": 105,
      "outputs": [
        {
          "output_type": "stream",
          "text": [
            "Counter({'NN': 515, 'IN': 185, 'JJ': 182, 'DT': 156, 'NNS': 113, 'VBD': 98, 'RB': 61, 'VB': 58, 'VBP': 56, 'CC': 51, 'PRP': 48, 'TO': 45, 'VBG': 44, 'VBZ': 44, 'PRP$': 43, 'VBN': 29, 'CD': 20, 'WP': 18, 'MD': 13, 'RP': 13, 'JJR': 11, 'JJS': 7, 'WRB': 6, 'WDT': 4, 'RBR': 3, 'FW': 1, 'PDT': 1})\n"
          ],
          "name": "stdout"
        }
      ]
    },
    {
      "cell_type": "code",
      "metadata": {
        "id": "PGhr1sHmtXha",
        "colab_type": "code",
        "colab": {
          "base_uri": "https://localhost:8080/",
          "height": 54
        },
        "outputId": "d5978e3d-7d27-4127-b87a-88253ceeba80"
      },
      "source": [
        "NYTimes =  open('DocumentSimilarity_With_POSTags/Data/NYTimes.txt',encoding= \"utf8\", mode = 'r')\n",
        "a = NYTimes.read()\n",
        "b = re.sub(r\"[^a-z\\s]+\",' ',a.lower()) #Removing punctuation\n",
        "NYTimesCount = Counter([j for i,j in pos_tag(word_tokenize(b))])\n",
        "print(NYTimesCount)"
      ],
      "execution_count": 106,
      "outputs": [
        {
          "output_type": "stream",
          "text": [
            "Counter({'NN': 598, 'IN': 316, 'JJ': 287, 'NNS': 235, 'DT': 206, 'VBD': 123, 'PRP': 110, 'VBP': 89, 'RB': 86, 'VB': 83, 'CC': 61, 'VBG': 57, 'VBZ': 54, 'TO': 54, 'VBN': 52, 'PRP$': 47, 'WP': 19, 'MD': 19, 'WRB': 18, 'CD': 12, 'RP': 9, 'JJR': 8, 'WDT': 5, 'RBR': 5, 'EX': 4, 'RBS': 4, 'NNPS': 3, 'FW': 2, 'PDT': 1, 'NNP': 1})\n"
          ],
          "name": "stdout"
        }
      ]
    },
    {
      "cell_type": "code",
      "metadata": {
        "id": "M0ALzxm43tI2",
        "colab_type": "code",
        "colab": {}
      },
      "source": [
        "\n",
        "def jaccard_similarity(list1, list2):\n",
        "    s1 = set(list1)\n",
        "    s2 = set(list2)\n",
        "    return len(s1.intersection(s2)) / len(s1.union(s2))"
      ],
      "execution_count": 0,
      "outputs": []
    }
  ]
}