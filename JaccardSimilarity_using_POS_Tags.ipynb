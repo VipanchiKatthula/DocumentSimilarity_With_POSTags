{
  "nbformat": 4,
  "nbformat_minor": 0,
  "metadata": {
    "colab": {
      "name": "Untitled1.ipynb",
      "provenance": [],
      "collapsed_sections": [],
      "authorship_tag": "ABX9TyMQyXkKbTlVZIddqsViPvmN",
      "include_colab_link": true
    },
    "kernelspec": {
      "name": "python3",
      "display_name": "Python 3"
    }
  },
  "cells": [
    {
      "cell_type": "markdown",
      "metadata": {
        "id": "view-in-github",
        "colab_type": "text"
      },
      "source": [
        "<a href=\"https://colab.research.google.com/github/VipanchiKatthula/DocumentSimilarity_With_POSTags/blob/master/JaccardSimilarity_using_POS_Tags.ipynb\" target=\"_parent\"><img src=\"https://colab.research.google.com/assets/colab-badge.svg\" alt=\"Open In Colab\"/></a>"
      ]
    },
    {
      "cell_type": "code",
      "metadata": {
        "id": "F3fHEFYrfzYt",
        "colab_type": "code",
        "outputId": "4ec9b8b0-bc1e-4dc7-e542-09b78476c304",
        "colab": {
          "base_uri": "https://localhost:8080/",
          "height": 136
        }
      },
      "source": [
        "import nltk\n",
        "nltk.download('punkt')\n",
        "nltk.download('stopwords')\n",
        "nltk.download('averaged_perceptron_tagger')\n",
        "from nltk import word_tokenize\n",
        "from nltk.tag import pos_tag\n",
        "from collections import Counter"
      ],
      "execution_count": 1,
      "outputs": [
        {
          "output_type": "stream",
          "text": [
            "[nltk_data] Downloading package punkt to /root/nltk_data...\n",
            "[nltk_data]   Unzipping tokenizers/punkt.zip.\n",
            "[nltk_data] Downloading package stopwords to /root/nltk_data...\n",
            "[nltk_data]   Unzipping corpora/stopwords.zip.\n",
            "[nltk_data] Downloading package averaged_perceptron_tagger to\n",
            "[nltk_data]     /root/nltk_data...\n",
            "[nltk_data]   Unzipping taggers/averaged_perceptron_tagger.zip.\n"
          ],
          "name": "stdout"
        }
      ]
    },
    {
      "cell_type": "code",
      "metadata": {
        "id": "zsm8vaHUjJMD",
        "colab_type": "code",
        "outputId": "4bdf97b8-2e3b-4504-d3a1-f73e00cc6e1a",
        "colab": {
          "base_uri": "https://localhost:8080/",
          "height": 119
        }
      },
      "source": [
        "!pip install -q xlrd\n",
        "!git clone https://github.com/VipanchiKatthula/DocumentSimilarity_With_POSTags.git"
      ],
      "execution_count": 2,
      "outputs": [
        {
          "output_type": "stream",
          "text": [
            "Cloning into 'DocumentSimilarity_With_POSTags'...\n",
            "remote: Enumerating objects: 21, done.\u001b[K\n",
            "remote: Counting objects: 100% (21/21), done.\u001b[K\n",
            "remote: Compressing objects: 100% (18/18), done.\u001b[K\n",
            "remote: Total 21 (delta 6), reused 0 (delta 0), pack-reused 0\u001b[K\n",
            "Unpacking objects: 100% (21/21), done.\n"
          ],
          "name": "stdout"
        }
      ]
    },
    {
      "cell_type": "code",
      "metadata": {
        "id": "RvPwr9T7gEAa",
        "colab_type": "code",
        "outputId": "f1ca6f94-fd64-4f74-e121-cefe6c27052c",
        "colab": {
          "base_uri": "https://localhost:8080/",
          "height": 139
        }
      },
      "source": [
        "UIC =  open('DocumentSimilarity_With_POSTags/Data/UIC.txt',encoding= \"utf8\", mode = 'r')\n",
        "a = UIC.read()\n",
        "import re\n",
        "b = re.sub(r\"[^a-z\\s]+\",' ',a.lower()) #Removing punctuation\n",
        "print(b[1:500])"
      ],
      "execution_count": 3,
      "outputs": [
        {
          "output_type": "stream",
          "text": [
            "thank you   \n",
            "the contributions we receive from our community of readers  editors and donors will keep us strong in   we ask you  humbly  to help us improve wikipedia by answering a few questions  thanks for your participation this survey powered by a third party service  please see the survey privacy statement \n",
            "university of illinois at chicago\n",
            "from wikipedia  the free encyclopedia\n",
            "jump to navigationjump to search\n",
            " university of illinois  chicago  redirects here  for the private university in c\n"
          ],
          "name": "stdout"
        }
      ]
    },
    {
      "cell_type": "code",
      "metadata": {
        "id": "AE7J5siH14VP",
        "colab_type": "code",
        "outputId": "46ece7ae-e646-47c4-bce5-11a5969023e6",
        "colab": {
          "base_uri": "https://localhost:8080/",
          "height": 54
        }
      },
      "source": [
        "c = word_tokenize(b)\n",
        "print(c[1:20])"
      ],
      "execution_count": 4,
      "outputs": [
        {
          "output_type": "stream",
          "text": [
            "['you', 'the', 'contributions', 'we', 'receive', 'from', 'our', 'community', 'of', 'readers', 'editors', 'and', 'donors', 'will', 'keep', 'us', 'strong', 'in', 'we']\n"
          ],
          "name": "stdout"
        }
      ]
    },
    {
      "cell_type": "code",
      "metadata": {
        "id": "IuQnZ5bf1-pE",
        "colab_type": "code",
        "outputId": "54c90a4d-ea4a-40fd-bce2-04b7d2fca4a2",
        "colab": {
          "base_uri": "https://localhost:8080/",
          "height": 54
        }
      },
      "source": [
        "wordtags = pos_tag(c)\n",
        "print(wordtags[1:20])"
      ],
      "execution_count": 5,
      "outputs": [
        {
          "output_type": "stream",
          "text": [
            "[('you', 'PRP'), ('the', 'DT'), ('contributions', 'NNS'), ('we', 'PRP'), ('receive', 'VBP'), ('from', 'IN'), ('our', 'PRP$'), ('community', 'NN'), ('of', 'IN'), ('readers', 'NNS'), ('editors', 'NNS'), ('and', 'CC'), ('donors', 'NNS'), ('will', 'MD'), ('keep', 'VB'), ('us', 'PRP'), ('strong', 'JJ'), ('in', 'IN'), ('we', 'PRP')]\n"
          ],
          "name": "stdout"
        }
      ]
    },
    {
      "cell_type": "code",
      "metadata": {
        "id": "PZADChdw2Bls",
        "colab_type": "code",
        "outputId": "261928d4-2b21-484b-b67a-3ee7456416e0",
        "colab": {
          "base_uri": "https://localhost:8080/",
          "height": 54
        }
      },
      "source": [
        "UICcount= dict(Counter([j for i,j in wordtags]))\n",
        "print(UICcount)"
      ],
      "execution_count": 11,
      "outputs": [
        {
          "output_type": "stream",
          "text": [
            "{'NN': 1673, 'PRP': 25, 'DT': 438, 'NNS': 481, 'VBP': 127, 'IN': 662, 'PRP$': 14, 'CC': 140, 'MD': 11, 'VB': 61, 'JJ': 780, 'RB': 92, 'TO': 64, 'VBG': 68, 'VBN': 144, 'FW': 2, 'VBZ': 77, 'CD': 40, 'VBD': 178, 'JJS': 23, 'JJR': 22, 'WDT': 15, 'RBR': 6, 'WP': 9, 'EX': 6, 'WRB': 7, 'RP': 3, 'PDT': 3, 'RBS': 3, 'NNP': 8}\n"
          ],
          "name": "stdout"
        }
      ]
    },
    {
      "cell_type": "code",
      "metadata": {
        "id": "IOcoyTlwgbiD",
        "colab_type": "code",
        "outputId": "581cc854-9906-4025-e820-5960bc824cc0",
        "colab": {
          "base_uri": "https://localhost:8080/",
          "height": 54
        }
      },
      "source": [
        "ESPN =  open('DocumentSimilarity_With_POSTags/Data/ESPN.txt',encoding= \"utf8\", mode = 'r')\n",
        "a = ESPN.read()\n",
        "b = re.sub(r\"[^a-z\\s]+\",' ',a.lower()) #Removing punctuation\n",
        "ESPNCount = dict(Counter([j for i,j in pos_tag(word_tokenize(b))]))\n",
        "print(ESPNCount)"
      ],
      "execution_count": 12,
      "outputs": [
        {
          "output_type": "stream",
          "text": [
            "{'NN': 515, 'IN': 185, 'JJ': 182, 'VBD': 98, 'JJR': 11, 'NNS': 113, 'VBP': 56, 'RBR': 3, 'VBG': 44, 'RB': 61, 'VBZ': 44, 'VB': 58, 'MD': 13, 'DT': 156, 'PRP': 48, 'RP': 13, 'CC': 51, 'WP': 18, 'JJS': 7, 'TO': 45, 'VBN': 29, 'CD': 20, 'PRP$': 43, 'WRB': 6, 'FW': 1, 'WDT': 4, 'PDT': 1}\n"
          ],
          "name": "stdout"
        }
      ]
    },
    {
      "cell_type": "code",
      "metadata": {
        "id": "PGhr1sHmtXha",
        "colab_type": "code",
        "outputId": "bf025f46-174c-45b6-bf81-aa047efaa97a",
        "colab": {
          "base_uri": "https://localhost:8080/",
          "height": 54
        }
      },
      "source": [
        "NYTimes =  open('DocumentSimilarity_With_POSTags/Data/NYTimes.txt',encoding= \"utf8\", mode = 'r')\n",
        "a = NYTimes.read()\n",
        "b = re.sub(r\"[^a-z\\s]+\",' ',a.lower()) #Removing punctuation\n",
        "NYTimesCount = dict(Counter([j for i,j in pos_tag(word_tokenize(b))]))\n",
        "print(NYTimesCount)"
      ],
      "execution_count": 13,
      "outputs": [
        {
          "output_type": "stream",
          "text": [
            "{'IN': 316, 'JJ': 287, 'NN': 598, 'NNS': 235, 'VBP': 89, 'VBD': 123, 'VBZ': 54, 'DT': 206, 'CD': 12, 'CC': 61, 'TO': 54, 'VBG': 57, 'PRP$': 47, 'VB': 83, 'RB': 86, 'PRP': 110, 'NNPS': 3, 'EX': 4, 'RP': 9, 'WDT': 5, 'WP': 19, 'VBN': 52, 'WRB': 18, 'MD': 19, 'JJR': 8, 'PDT': 1, 'RBS': 4, 'RBR': 5, 'FW': 2, 'NNP': 1}\n"
          ],
          "name": "stdout"
        }
      ]
    },
    {
      "cell_type": "code",
      "metadata": {
        "id": "M0ALzxm43tI2",
        "colab_type": "code",
        "colab": {
          "base_uri": "https://localhost:8080/",
          "height": 34
        },
        "outputId": "562f0481-4955-4cbb-b110-dfab3397a424"
      },
      "source": [
        "\n",
        "def jaccard_similarity(list1, list2):\n",
        "    s1 = set(list1)\n",
        "    s2 = set(list2)\n",
        "    return len(s1.intersection(s2)) / len(s1.union(s2))"
      ],
      "execution_count": 16,
      "outputs": [
        {
          "output_type": "execute_result",
          "data": {
            "text/plain": [
              "0.9354838709677419"
            ]
          },
          "metadata": {
            "tags": []
          },
          "execution_count": 16
        }
      ]
    },
    {
      "cell_type": "code",
      "metadata": {
        "id": "iBeG4d_fLkeG",
        "colab_type": "code",
        "colab": {
          "base_uri": "https://localhost:8080/",
          "height": 34
        },
        "outputId": "13a49bcd-c9fd-499f-f8e8-65429d03cfce"
      },
      "source": [
        "jaccard_similarity(UICcount,ESPNCount)\n"
      ],
      "execution_count": 17,
      "outputs": [
        {
          "output_type": "execute_result",
          "data": {
            "text/plain": [
              "0.9"
            ]
          },
          "metadata": {
            "tags": []
          },
          "execution_count": 17
        }
      ]
    },
    {
      "cell_type": "code",
      "metadata": {
        "id": "B9RLhOYyLlZv",
        "colab_type": "code",
        "colab": {
          "base_uri": "https://localhost:8080/",
          "height": 34
        },
        "outputId": "d2879ff8-e805-4815-a5b3-1f1ef8ba64cb"
      },
      "source": [
        "jaccard_similarity(UICcount,NYTimesCount)"
      ],
      "execution_count": 18,
      "outputs": [
        {
          "output_type": "execute_result",
          "data": {
            "text/plain": [
              "0.9354838709677419"
            ]
          },
          "metadata": {
            "tags": []
          },
          "execution_count": 18
        }
      ]
    }
  ]
}